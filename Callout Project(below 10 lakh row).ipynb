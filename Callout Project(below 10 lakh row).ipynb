{
 "cells": [
  {
   "cell_type": "code",
   "execution_count": 47,
   "source": [
    "import pandas as pd\r\n",
    "import numpy as np\r\n"
   ],
   "outputs": [],
   "metadata": {}
  },
  {
   "cell_type": "code",
   "execution_count": 48,
   "source": [
    "Currentweek=pd.read_excel('Week3data.xlsx')\r\n",
    "Previousweek=pd.read_excel('week2data.xlsx')\r\n",
    "Currentweekexclusives=pd.read_excel('wk3exclusives.xlsx')\r\n",
    "Previousweekexclusives=pd.read_excel('wk2exc.xlsx')\r\n",
    "Currentwkgv=450212\r\n",
    "Previouswkgv=386800\r\n",
    "\r\n",
    "\r\n"
   ],
   "outputs": [],
   "metadata": {}
  },
  {
   "cell_type": "code",
   "execution_count": 49,
   "source": [
    "Currentweeknew=Currentweek.drop(['snapshot_day','marketplace_id','gl_product_group','subcategory_code','parent_asin','dph','season','total_prm_count','pm_count','total_ic_if_count','total_ic_inf_count','total_sic_if_count','total_sic_inf_count','total_instock_ic_if_count','total_oostock_ic_if_count','total_instock_sic_if_count','total_oostock_sic_if_count','total_pricedeactivated_if_count','total_priceenabled_ic_if_count','total_pricedeactivated_ic_if_count','total_priceenabled_sic_if_count','total_pricedeactivated_sic_if_count','total_unknown_stock_ic_if_count','total_unknown_stock_sic_if_count','total_instock_price_enabled_sic_if_count','total_instock_price_enabled_ic_if_count','total_competitors','amzn_unsellable_on_hand_qty','amzn_unsellable_inventory_cost','amzn_sellable_inventory_cost','amzn_sellable_on_hand_quantity','replenishment_code','source_country_code','product_site_launch_day','ean','upc','color_name','size_name'],axis=1)\r\n"
   ],
   "outputs": [],
   "metadata": {}
  },
  {
   "cell_type": "code",
   "execution_count": 50,
   "source": [
    "Currentweeklook1=pd.merge(Currentweeknew,Currentweekexclusives,on='asin',how='left')\r\n"
   ],
   "outputs": [],
   "metadata": {}
  },
  {
   "cell_type": "code",
   "execution_count": 51,
   "source": [
    "Currentweeklook1=Currentweeklook1[Currentweeklook1['exclusives'].isnull()]"
   ],
   "outputs": [],
   "metadata": {}
  },
  {
   "cell_type": "code",
   "execution_count": 52,
   "source": [
    "Previousweeknew=Previousweek.drop(['snapshot_day','marketplace_id','gl_product_group','subcategory_code','parent_asin','dph','season','merchant_customer_id','inf_count','total_prm_count','pm_count','total_ic_if_count','total_ic_inf_count','total_sic_if_count','total_sic_inf_count','total_instock_ic_if_count','total_oostock_ic_if_count','total_instock_sic_if_count','total_oostock_sic_if_count','total_pricedeactivated_if_count','total_priceenabled_ic_if_count','total_pricedeactivated_ic_if_count','total_priceenabled_sic_if_count','total_pricedeactivated_sic_if_count','total_unknown_stock_ic_if_count','total_unknown_stock_sic_if_count','total_competitors','amzn_unsellable_on_hand_qty','amzn_unsellable_inventory_cost','amzn_sellable_inventory_cost','amzn_sellable_on_hand_quantity','replenishment_code','source_country_code','product_site_launch_day','ean','upc','color_name','size_name'],axis=1)\r\n"
   ],
   "outputs": [],
   "metadata": {}
  },
  {
   "cell_type": "code",
   "execution_count": 53,
   "source": [
    "Previousweeknew_updated=Previousweeknew.rename(columns={'asin_band':'asin_band_Prevweek','category_code':'category_code_Prevweek','product_tier_id':'product_tier_id_Prevweek','weekly_running_sum_gv':'weekly_running_sum_gv_Prevweek','monthly_running_sum_gv':'monthly_running_sum_gv_Prevweek','asin_map_status':'asin_map_status_Prevweek','has_amzn_offering':'has_amzn_offering_Prevweek','total_if_count':'total_if_count_Prevweek','total_instock_if_count':'total_instock_if_count_Prevweek','total_oostock_if_count':'total_oostock_if_count_Prevweek','total_priceenabled_if_count':'total_priceenabled_if_count_Prevweek','total_unknown_stock_if_count':'total_unknown_stock_if_count_Prevweek','total_instock_price_enabled_if_count':'total_instock_price_enabled_if_count_Prevweek','brand_name':'brand_name_Prevweek','title':'title_Prevweek'},inplace=False)"
   ],
   "outputs": [],
   "metadata": {}
  },
  {
   "cell_type": "code",
   "execution_count": 54,
   "source": [
    "Previousweeklook1=pd.merge(Previousweeknew_updated,Previousweekexclusives,on='asin',how='left')\r\n"
   ],
   "outputs": [],
   "metadata": {}
  },
  {
   "cell_type": "code",
   "execution_count": 55,
   "source": [
    "Previousweeklook1=Previousweeklook1[Previousweeklook1['exclusives'].isnull()]"
   ],
   "outputs": [],
   "metadata": {}
  },
  {
   "cell_type": "code",
   "execution_count": 56,
   "source": [
    "Currentweeklook2=pd.merge(Currentweeklook1,Previousweeklook1,on='asin',how='left')\r\n"
   ],
   "outputs": [],
   "metadata": {}
  },
  {
   "cell_type": "code",
   "execution_count": 57,
   "source": [
    "Previousweeklook2=pd.merge(Previousweeklook1,Currentweeklook1,on='asin',how='left')\r\n"
   ],
   "outputs": [],
   "metadata": {}
  },
  {
   "cell_type": "code",
   "execution_count": 58,
   "source": [
    "oos_to_peinstock =Currentweeklook2.loc[(Currentweeklook2['total_if_count'] >0) & (Currentweeklook2['total_instock_if_count'] >0) & (Currentweeklook2['total_instock_price_enabled_if_count'] >0) & (Currentweeklook2['total_if_count_Prevweek'] >0) & (Currentweeklook2['total_instock_if_count_Prevweek']==0)]\r\n"
   ],
   "outputs": [],
   "metadata": {}
  },
  {
   "cell_type": "code",
   "execution_count": 59,
   "source": [
    "oos_to_peinstock.shape"
   ],
   "outputs": [
    {
     "output_type": "execute_result",
     "data": {
      "text/plain": [
       "(6, 37)"
      ]
     },
     "metadata": {},
     "execution_count": 59
    }
   ],
   "metadata": {}
  },
  {
   "cell_type": "code",
   "execution_count": 60,
   "source": [
    "oos_to_peinstock['weekly_running_sum_gv'].sum()"
   ],
   "outputs": [
    {
     "output_type": "execute_result",
     "data": {
      "text/plain": [
       "7366"
      ]
     },
     "metadata": {},
     "execution_count": 60
    }
   ],
   "metadata": {}
  },
  {
   "cell_type": "code",
   "execution_count": 61,
   "source": [
    "pe_instock_to_oos=Currentweeklook2.loc[(Currentweeklook2['total_if_count']>0) & (Currentweeklook2['total_instock_if_count']==0) & (Currentweeklook2['total_if_count_Prevweek']>0) & (Currentweeklook2['total_instock_price_enabled_if_count_Prevweek']>0)]"
   ],
   "outputs": [],
   "metadata": {}
  },
  {
   "cell_type": "code",
   "execution_count": 62,
   "source": [
    "pe_instock_to_oos.shape"
   ],
   "outputs": [
    {
     "output_type": "execute_result",
     "data": {
      "text/plain": [
       "(14, 37)"
      ]
     },
     "metadata": {},
     "execution_count": 62
    }
   ],
   "metadata": {}
  },
  {
   "cell_type": "code",
   "execution_count": 63,
   "source": [
    "pe_instock_to_oos['weekly_running_sum_gv'].sum()"
   ],
   "outputs": [
    {
     "output_type": "execute_result",
     "data": {
      "text/plain": [
       "801"
      ]
     },
     "metadata": {},
     "execution_count": 63
    }
   ],
   "metadata": {}
  },
  {
   "cell_type": "code",
   "execution_count": 64,
   "source": [
    "Newly_added_oos=Currentweeklook2.loc[(Currentweeklook2['total_if_count']>0) & (Currentweeklook2['total_instock_if_count']==0) & (Currentweeklook2['total_oostock_if_count']>0) & (Currentweeklook2['total_if_count_Prevweek'].isnull())]"
   ],
   "outputs": [],
   "metadata": {}
  },
  {
   "cell_type": "code",
   "execution_count": 65,
   "source": [
    "Newly_added_oos.shape"
   ],
   "outputs": [
    {
     "output_type": "execute_result",
     "data": {
      "text/plain": [
       "(56, 37)"
      ]
     },
     "metadata": {},
     "execution_count": 65
    }
   ],
   "metadata": {}
  },
  {
   "cell_type": "code",
   "execution_count": 66,
   "source": [
    "Newly_added_oos['weekly_running_sum_gv'].sum()"
   ],
   "outputs": [
    {
     "output_type": "execute_result",
     "data": {
      "text/plain": [
       "184"
      ]
     },
     "metadata": {},
     "execution_count": 66
    }
   ],
   "metadata": {}
  },
  {
   "cell_type": "code",
   "execution_count": 67,
   "source": [
    "Newly_added_peinstock=Currentweeklook2.loc[(Currentweeklook2['total_if_count']>0) & (Currentweeklook2['total_instock_if_count']>0) & (Currentweeklook2['total_instock_price_enabled_if_count']>0) & (Currentweeklook2['total_if_count_Prevweek'].isnull())]"
   ],
   "outputs": [],
   "metadata": {}
  },
  {
   "cell_type": "code",
   "execution_count": 68,
   "source": [
    "Newly_added_peinstock.shape"
   ],
   "outputs": [
    {
     "output_type": "execute_result",
     "data": {
      "text/plain": [
       "(16, 37)"
      ]
     },
     "metadata": {},
     "execution_count": 68
    }
   ],
   "metadata": {}
  },
  {
   "cell_type": "code",
   "execution_count": 69,
   "source": [
    "Newly_added_peinstock['weekly_running_sum_gv'].sum()"
   ],
   "outputs": [
    {
     "output_type": "execute_result",
     "data": {
      "text/plain": [
       "486"
      ]
     },
     "metadata": {},
     "execution_count": 69
    }
   ],
   "metadata": {}
  },
  {
   "cell_type": "code",
   "execution_count": 70,
   "source": [
    "Overlapping_0if=Currentweeklook2.loc[(Currentweeklook2['total_if_count']==0) & (Currentweeklook2['total_if_count_Prevweek']==0)]"
   ],
   "outputs": [],
   "metadata": {}
  },
  {
   "cell_type": "code",
   "execution_count": 71,
   "source": [
    "Overlapping_0if.shape"
   ],
   "outputs": [
    {
     "output_type": "execute_result",
     "data": {
      "text/plain": [
       "(2567, 37)"
      ]
     },
     "metadata": {},
     "execution_count": 71
    }
   ],
   "metadata": {}
  },
  {
   "cell_type": "code",
   "execution_count": 72,
   "source": [
    "Overlapping_0if['weekly_running_sum_gv'].sum()"
   ],
   "outputs": [
    {
     "output_type": "execute_result",
     "data": {
      "text/plain": [
       "111792"
      ]
     },
     "metadata": {},
     "execution_count": 72
    }
   ],
   "metadata": {}
  },
  {
   "cell_type": "code",
   "execution_count": 73,
   "source": [
    "Overlapping_peinstock=Currentweeklook2.loc[(Currentweeklook2['total_if_count']>0) & (Currentweeklook2['total_instock_if_count']>0) & (Currentweeklook2['total_instock_price_enabled_if_count']>0) & (Currentweeklook2['total_if_count_Prevweek']>0) & (Currentweeklook2['total_instock_price_enabled_if_count_Prevweek']>0)]"
   ],
   "outputs": [],
   "metadata": {}
  },
  {
   "cell_type": "code",
   "execution_count": 74,
   "source": [
    "Overlapping_peinstock.shape"
   ],
   "outputs": [
    {
     "output_type": "execute_result",
     "data": {
      "text/plain": [
       "(254, 37)"
      ]
     },
     "metadata": {},
     "execution_count": 74
    }
   ],
   "metadata": {}
  },
  {
   "cell_type": "code",
   "execution_count": 75,
   "source": [
    "Overlapping_peinstock['weekly_running_sum_gv'].sum()"
   ],
   "outputs": [
    {
     "output_type": "execute_result",
     "data": {
      "text/plain": [
       "267378"
      ]
     },
     "metadata": {},
     "execution_count": 75
    }
   ],
   "metadata": {}
  },
  {
   "cell_type": "code",
   "execution_count": 76,
   "source": [
    "Overlapping_Out_of_stock=Currentweeklook2.loc[(Currentweeklook2['total_if_count']>0) & (Currentweeklook2['total_instock_if_count']==0) & (Currentweeklook2['total_if_count_Prevweek']>0) & (Currentweeklook2['total_instock_if_count_Prevweek']==0)]"
   ],
   "outputs": [],
   "metadata": {}
  },
  {
   "cell_type": "code",
   "execution_count": 77,
   "source": [
    "Overlapping_Out_of_stock.shape"
   ],
   "outputs": [
    {
     "output_type": "execute_result",
     "data": {
      "text/plain": [
       "(333, 37)"
      ]
     },
     "metadata": {},
     "execution_count": 77
    }
   ],
   "metadata": {}
  },
  {
   "cell_type": "code",
   "execution_count": 78,
   "source": [
    "Overlapping_Out_of_stock['weekly_running_sum_gv'].sum()"
   ],
   "outputs": [
    {
     "output_type": "execute_result",
     "data": {
      "text/plain": [
       "57798"
      ]
     },
     "metadata": {},
     "execution_count": 78
    }
   ],
   "metadata": {}
  },
  {
   "cell_type": "code",
   "execution_count": 79,
   "source": [
    "Newly_added_0if=Currentweeklook2.loc[(Currentweeklook2['total_if_count']==0) & (Currentweeklook2['total_if_count_Prevweek'].isnull())]"
   ],
   "outputs": [],
   "metadata": {}
  },
  {
   "cell_type": "code",
   "execution_count": 80,
   "source": [
    "Newly_added_0if.shape"
   ],
   "outputs": [
    {
     "output_type": "execute_result",
     "data": {
      "text/plain": [
       "(1517, 37)"
      ]
     },
     "metadata": {},
     "execution_count": 80
    }
   ],
   "metadata": {}
  },
  {
   "cell_type": "code",
   "execution_count": 81,
   "source": [
    "Newly_added_0if['weekly_running_sum_gv'].sum()"
   ],
   "outputs": [
    {
     "output_type": "execute_result",
     "data": {
      "text/plain": [
       "4148"
      ]
     },
     "metadata": {},
     "execution_count": 81
    }
   ],
   "metadata": {}
  },
  {
   "cell_type": "code",
   "execution_count": 82,
   "source": [
    "Moved_out_oos=Previousweeklook2.loc[(Previousweeklook2['total_if_count_Prevweek']>0) & (Previousweeklook2['total_instock_if_count_Prevweek']==0) & (Previousweeklook2['total_oostock_if_count_Prevweek']>0) & (Previousweeklook2['total_if_count'].isnull())]"
   ],
   "outputs": [],
   "metadata": {}
  },
  {
   "cell_type": "code",
   "execution_count": 83,
   "source": [
    "Moved_out_oos.shape"
   ],
   "outputs": [
    {
     "output_type": "execute_result",
     "data": {
      "text/plain": [
       "(66, 37)"
      ]
     },
     "metadata": {},
     "execution_count": 83
    }
   ],
   "metadata": {}
  },
  {
   "cell_type": "code",
   "execution_count": 84,
   "source": [
    "Moved_out_oos['weekly_running_sum_gv_Prevweek'].sum()"
   ],
   "outputs": [
    {
     "output_type": "execute_result",
     "data": {
      "text/plain": [
       "288"
      ]
     },
     "metadata": {},
     "execution_count": 84
    }
   ],
   "metadata": {}
  },
  {
   "cell_type": "code",
   "execution_count": 85,
   "source": [
    "Moved_out_peinstock=Previousweeklook2.loc[(Previousweeklook2['total_if_count_Prevweek']>0) & (Previousweeklook2['total_instock_if_count_Prevweek']>0) & (Previousweeklook2['total_if_count'].isnull())]"
   ],
   "outputs": [],
   "metadata": {}
  },
  {
   "cell_type": "code",
   "execution_count": 86,
   "source": [
    "Moved_out_peinstock.shape"
   ],
   "outputs": [
    {
     "output_type": "execute_result",
     "data": {
      "text/plain": [
       "(19, 37)"
      ]
     },
     "metadata": {},
     "execution_count": 86
    }
   ],
   "metadata": {}
  },
  {
   "cell_type": "code",
   "execution_count": 87,
   "source": [
    "Moved_out_peinstock['weekly_running_sum_gv_Prevweek'].sum()"
   ],
   "outputs": [
    {
     "output_type": "execute_result",
     "data": {
      "text/plain": [
       "3986"
      ]
     },
     "metadata": {},
     "execution_count": 87
    }
   ],
   "metadata": {}
  },
  {
   "cell_type": "code",
   "execution_count": 88,
   "source": [
    "Moved_out_0if=Previousweeklook2.loc[(Previousweeklook2['total_if_count_Prevweek']==0) & (Previousweeklook2['total_if_count'].isnull())]"
   ],
   "outputs": [],
   "metadata": {}
  },
  {
   "cell_type": "code",
   "execution_count": 89,
   "source": [
    "Moved_out_0if.shape"
   ],
   "outputs": [
    {
     "output_type": "execute_result",
     "data": {
      "text/plain": [
       "(1875, 37)"
      ]
     },
     "metadata": {},
     "execution_count": 89
    }
   ],
   "metadata": {}
  },
  {
   "cell_type": "code",
   "execution_count": 90,
   "source": [
    "Moved_out_0if['weekly_running_sum_gv_Prevweek'].sum()"
   ],
   "outputs": [
    {
     "output_type": "execute_result",
     "data": {
      "text/plain": [
       "7718"
      ]
     },
     "metadata": {},
     "execution_count": 90
    }
   ],
   "metadata": {}
  },
  {
   "cell_type": "code",
   "execution_count": 91,
   "source": [
    "f = open(\"output.txt\", \"a\")\r\n",
    "print('Out of stock to PEInstock',(oos_to_peinstock['weekly_running_sum_gv'].sum()/Currentwkgv)*100,'%','  Number of asins=',oos_to_peinstock.shape[0]-1,'  GVs in Number= ',oos_to_peinstock['weekly_running_sum_gv'].sum(),file=f)\r\n",
    "print('PEInstock to Out of stock',(pe_instock_to_oos['weekly_running_sum_gv'].sum()/Currentwkgv)*100,'%','  Number of asins=',pe_instock_to_oos.shape[0]-1,'  GVs in Number= ',pe_instock_to_oos['weekly_running_sum_gv'].sum(),file=f)\r\n",
    "\r\n",
    "print('Combined Impact = ',((oos_to_peinstock['weekly_running_sum_gv'].sum()/Currentwkgv)*100)-((pe_instock_to_oos['weekly_running_sum_gv'].sum()/Currentwkgv)*100),'%',file=f)\r\n",
    "print('--------------------------------------------------------------------------------',file=f)\r\n",
    "print('--------------------------------------------------------------------------------',file=f)\r\n",
    "print('Newly added Out of stock',(Newly_added_oos['weekly_running_sum_gv'].sum()/Currentwkgv)*100,'%','  Number of asins=',Newly_added_oos.shape[0]-1,'  GVs in Number= ',Newly_added_oos['weekly_running_sum_gv'].sum(),file=f)\r\n",
    "print('Movedout Out of stock',(Moved_out_oos['weekly_running_sum_gv_Prevweek'].sum()/Previouswkgv)*100,'%','  Number of asins=',Moved_out_oos.shape[0]-1,'  GVs in Number= ',Moved_out_oos['weekly_running_sum_gv_Prevweek'].sum(),file=f)\r\n",
    "print('Combined Impact = ',((Moved_out_oos['weekly_running_sum_gv_Prevweek'].sum()/Previouswkgv)*100)-((Newly_added_oos['weekly_running_sum_gv'].sum()/Currentwkgv)*100),'%',file=f)\r\n",
    "print('--------------------------------------------------------------------------------',file=f)\r\n",
    "print('--------------------------------------------------------------------------------',file=f)\r\n",
    "print('Newly added PE Instock',(Newly_added_peinstock['weekly_running_sum_gv'].sum()/Currentwkgv)*100,'%','  Number of asins=',Newly_added_peinstock.shape[0]-1,'  GVs in Number= ',Newly_added_peinstock['weekly_running_sum_gv'].sum(),file=f)\r\n",
    "print('Movedout PE Instock',(Moved_out_peinstock['weekly_running_sum_gv_Prevweek'].sum()/Previouswkgv)*100,'%','  Number of asins=',Moved_out_peinstock.shape[0]-1,'  GVs in Number= ',Moved_out_peinstock['weekly_running_sum_gv_Prevweek'].sum(),file=f)\r\n",
    "print('Combined Impact = ',((Newly_added_peinstock['weekly_running_sum_gv'].sum()/Currentwkgv)*100)-((Moved_out_peinstock['weekly_running_sum_gv_Prevweek'].sum()/Previouswkgv)*100),'%',file=f)\r\n",
    "print('--------------------------------------------------------------------------------',file=f)\r\n",
    "print('--------------------------------------------------------------------------------',file=f)\r\n",
    "print('Overlapping 0if',(Overlapping_0if['weekly_running_sum_gv'].sum()/Currentwkgv)*100,'%',' Minus ',(Overlapping_0if['weekly_running_sum_gv_Prevweek'].sum()/Previouswkgv)*100,'%',' = ',((Overlapping_0if['weekly_running_sum_gv'].sum()/Currentwkgv)*100)-((Overlapping_0if['weekly_running_sum_gv_Prevweek'].sum()/Previouswkgv)*100),'%','  Number of asins=',Overlapping_0if.shape[0]-1,' GVs in Current Week=',Overlapping_0if['weekly_running_sum_gv'].sum(),' GVs in Previous Week=',Overlapping_0if['weekly_running_sum_gv_Prevweek'].sum(),file=f)\r\n",
    "print('Overlapping Out of stock',(Overlapping_Out_of_stock['weekly_running_sum_gv'].sum()/Currentwkgv)*100,'%',' Minus ',(Overlapping_Out_of_stock['weekly_running_sum_gv_Prevweek'].sum()/Previouswkgv)*100,'%',' = ',((Overlapping_Out_of_stock['weekly_running_sum_gv'].sum()/Currentwkgv)*100)-((Overlapping_Out_of_stock['weekly_running_sum_gv_Prevweek'].sum()/Previouswkgv)*100),'%','  Number of asins=',Overlapping_Out_of_stock.shape[0]-1,' GVs in Current Week=',Overlapping_Out_of_stock['weekly_running_sum_gv'].sum(),' GVs in Previous Week=',Overlapping_Out_of_stock['weekly_running_sum_gv_Prevweek'].sum(),file=f)\r\n",
    "print('Overlapping PE Instock',(Overlapping_peinstock['weekly_running_sum_gv'].sum()/Currentwkgv)*100,'%',' Minus ',(Overlapping_peinstock['weekly_running_sum_gv_Prevweek'].sum()/Previouswkgv)*100,'%',' = ',((Overlapping_peinstock['weekly_running_sum_gv'].sum()/Currentwkgv)*100)-((Overlapping_peinstock['weekly_running_sum_gv_Prevweek'].sum()/Previouswkgv)*100),'%','  Number of asins=',Overlapping_peinstock.shape[0]-1,' GVs in Current Week=',Overlapping_peinstock['weekly_running_sum_gv'].sum(),' GVs in Previous Week=',Overlapping_peinstock['weekly_running_sum_gv_Prevweek'].sum(),file=f)\r\n",
    "print('--------------------------------------------------------------------------------',file=f)\r\n",
    "print('--------------------------------------------------------------------------------',file=f)\r\n",
    "print('Newly added 0IF',(Newly_added_0if['weekly_running_sum_gv'].sum()/Currentwkgv)*100,'%','  Number of asins=',Newly_added_0if.shape[0]-1,'  GVs in Number= ',Newly_added_0if['weekly_running_sum_gv'].sum(),file=f)\r\n",
    "print('Movedout 0IF',(Moved_out_0if['weekly_running_sum_gv_Prevweek'].sum()/Previouswkgv)*100,'%','  Number of asins=',Moved_out_0if.shape[0]-1,'  GVs in Number= ',Moved_out_0if['weekly_running_sum_gv_Prevweek'].sum(),file=f)\r\n",
    "print('Combined Impact = ',((Moved_out_0if['weekly_running_sum_gv_Prevweek'].sum()/Previouswkgv)*100)-((Newly_added_0if['weekly_running_sum_gv'].sum()/Currentwkgv)*100),'%',file=f)\r\n",
    "f.close()\r\n",
    "\r\n",
    "\r\n",
    "\r\n"
   ],
   "outputs": [],
   "metadata": {}
  },
  {
   "cell_type": "code",
   "execution_count": 92,
   "source": [
    "oos_to_peinstock.to_csv('oos_to_peinstock.csv')\r\n",
    "pe_instock_to_oos.to_csv('pe_instock_to_oos.csv')\r\n",
    "Newly_added_oos.to_csv('Newly_added_oos.csv')\r\n",
    "Moved_out_oos.to_csv('Moved_out_oos.csv')\r\n",
    "Newly_added_peinstock.to_csv('Newly_added_peinstock.csv')\r\n",
    "Overlapping_0if.to_csv('Overlapping_0if.csv')\r\n",
    "Overlapping_Out_of_stock.to_csv('Overlapping_Out_of_stock.csv')\r\n",
    "Overlapping_peinstock.to_csv('Overlapping_peinstock.csv')\r\n",
    "Newly_added_0if.to_csv('Newly_added_0if.csv')\r\n",
    "Moved_out_0if.to_csv('Moved_out_0if.csv')\r\n",
    "\r\n",
    "\r\n",
    "\r\n",
    "\r\n",
    "    \r\n"
   ],
   "outputs": [],
   "metadata": {}
  }
 ],
 "metadata": {
  "orig_nbformat": 4,
  "language_info": {
   "name": "python",
   "version": "3.8.5",
   "mimetype": "text/x-python",
   "codemirror_mode": {
    "name": "ipython",
    "version": 3
   },
   "pygments_lexer": "ipython3",
   "nbconvert_exporter": "python",
   "file_extension": ".py"
  },
  "kernelspec": {
   "name": "python3",
   "display_name": "Python 3.8.5 64-bit"
  },
  "interpreter": {
   "hash": "1baa965d5efe3ac65b79dfc60c0d706280b1da80fedb7760faf2759126c4f253"
  }
 },
 "nbformat": 4,
 "nbformat_minor": 2
}