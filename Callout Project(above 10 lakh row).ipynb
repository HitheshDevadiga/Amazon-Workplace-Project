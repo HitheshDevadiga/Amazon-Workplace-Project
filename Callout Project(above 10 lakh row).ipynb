{
 "cells": [
  {
   "cell_type": "code",
   "execution_count": 1,
   "source": [
    "import pandas as pd\r\n",
    "import numpy as np\r\n",
    "import os\r\n"
   ],
   "outputs": [],
   "metadata": {}
  },
  {
   "cell_type": "code",
   "execution_count": 2,
   "source": [
    "from os.path import basename\r\n"
   ],
   "outputs": [],
   "metadata": {}
  },
  {
   "cell_type": "code",
   "execution_count": 3,
   "source": [
    "Currentweek = []\r\n",
    "for f in ['wk47part1.xlsx', 'wk47part2.xlsx']:\r\n",
    "    data = pd.read_excel(f, 'Sheet1')\r\n",
    "    data.index = [os.path.basename(f)] * len(data)\r\n",
    "    Currentweek.append(data)\r\n",
    "\r\n",
    "Currentweek = pd.concat(Currentweek)"
   ],
   "outputs": [],
   "metadata": {}
  },
  {
   "cell_type": "code",
   "execution_count": 4,
   "source": [
    "Previousweek = []\r\n",
    "for f in ['week43part1.xlsx', 'week43part2.xlsx']:\r\n",
    "    data = pd.read_excel(f, 'Sheet1')\r\n",
    "    data.index = [os.path.basename(f)] * len(data)\r\n",
    "    Previousweek.append(data)\r\n",
    "\r\n",
    "Previousweek = pd.concat(Previousweek)"
   ],
   "outputs": [],
   "metadata": {}
  },
  {
   "cell_type": "code",
   "execution_count": 5,
   "source": [
    "Currentweekexclusives=pd.read_excel('47exclusives.xlsx')\r\n",
    "Previousweekexclusives=pd.read_excel('43exclusives.xlsx')\r\n",
    "Currentwkgv=21302232\r\n",
    "Previouswkgv=21689544\r\n",
    "\r\n",
    "\r\n"
   ],
   "outputs": [],
   "metadata": {}
  },
  {
   "cell_type": "code",
   "execution_count": 6,
   "source": [
    "Currentweeknew=Currentweek.drop(['snapshot_day','marketplace_id','gl_product_group','subcategory_code','parent_asin','dph','season','total_prm_count','pm_count','total_ic_if_count','total_ic_inf_count','total_sic_if_count','total_sic_inf_count','total_instock_ic_if_count','total_oostock_ic_if_count','total_instock_sic_if_count','total_oostock_sic_if_count','total_pricedeactivated_if_count','total_priceenabled_ic_if_count','total_pricedeactivated_ic_if_count','total_priceenabled_sic_if_count','total_pricedeactivated_sic_if_count','total_unknown_stock_ic_if_count','total_unknown_stock_sic_if_count','total_instock_price_enabled_sic_if_count','total_instock_price_enabled_ic_if_count','total_competitors','amzn_unsellable_on_hand_qty','amzn_unsellable_inventory_cost','amzn_sellable_inventory_cost','amzn_sellable_on_hand_quantity','replenishment_code','source_country_code','product_site_launch_day','ean','upc','color_name','size_name'],axis=1)\r\n"
   ],
   "outputs": [],
   "metadata": {}
  },
  {
   "cell_type": "code",
   "execution_count": 7,
   "source": [
    "Currentweeklook1=pd.merge(Currentweeknew,Currentweekexclusives,on='asin',how='left')\r\n"
   ],
   "outputs": [],
   "metadata": {}
  },
  {
   "cell_type": "code",
   "execution_count": 8,
   "source": [
    "Currentweeklook1=Currentweeklook1[Currentweeklook1['exclusives'].isnull()]"
   ],
   "outputs": [],
   "metadata": {}
  },
  {
   "cell_type": "code",
   "execution_count": 9,
   "source": [
    "Previousweeknew=Previousweek.drop(['snapshot_day','marketplace_id','gl_product_group','subcategory_code','parent_asin','dph','season','merchant_customer_id','inf_count','total_prm_count','pm_count','total_ic_if_count','total_ic_inf_count','total_sic_if_count','total_sic_inf_count','total_instock_ic_if_count','total_oostock_ic_if_count','total_instock_sic_if_count','total_oostock_sic_if_count','total_pricedeactivated_if_count','total_priceenabled_ic_if_count','total_pricedeactivated_ic_if_count','total_priceenabled_sic_if_count','total_pricedeactivated_sic_if_count','total_unknown_stock_ic_if_count','total_unknown_stock_sic_if_count','total_competitors','amzn_unsellable_on_hand_qty','amzn_unsellable_inventory_cost','amzn_sellable_inventory_cost','amzn_sellable_on_hand_quantity','replenishment_code','source_country_code','product_site_launch_day','ean','upc','color_name','size_name'],axis=1)\r\n"
   ],
   "outputs": [],
   "metadata": {}
  },
  {
   "cell_type": "code",
   "execution_count": 10,
   "source": [
    "Previousweeknew_updated=Previousweeknew.rename(columns={'asin_band':'asin_band_Prevweek','category_code':'category_code_Prevweek','product_tier_id':'product_tier_id_Prevweek','weekly_running_sum_gv':'weekly_running_sum_gv_Prevweek','monthly_running_sum_gv':'monthly_running_sum_gv_Prevweek','asin_map_status':'asin_map_status_Prevweek','has_amzn_offering':'has_amzn_offering_Prevweek','total_if_count':'total_if_count_Prevweek','total_instock_if_count':'total_instock_if_count_Prevweek','total_oostock_if_count':'total_oostock_if_count_Prevweek','total_priceenabled_if_count':'total_priceenabled_if_count_Prevweek','total_unknown_stock_if_count':'total_unknown_stock_if_count_Prevweek','total_instock_price_enabled_if_count':'total_instock_price_enabled_if_count_Prevweek','brand_name':'brand_name_Prevweek','title':'title_Prevweek'},inplace=False)"
   ],
   "outputs": [],
   "metadata": {}
  },
  {
   "cell_type": "code",
   "execution_count": 11,
   "source": [
    "Previousweeklook1=pd.merge(Previousweeknew_updated,Previousweekexclusives,on='asin',how='left')\r\n"
   ],
   "outputs": [],
   "metadata": {}
  },
  {
   "cell_type": "code",
   "execution_count": 12,
   "source": [
    "Previousweeklook1=Previousweeklook1[Previousweeklook1['exclusives'].isnull()]"
   ],
   "outputs": [],
   "metadata": {}
  },
  {
   "cell_type": "code",
   "execution_count": 13,
   "source": [
    "Currentweeklook2=pd.merge(Currentweeklook1,Previousweeklook1,on='asin',how='left')\r\n"
   ],
   "outputs": [],
   "metadata": {}
  },
  {
   "cell_type": "code",
   "execution_count": 14,
   "source": [
    "Previousweeklook2=pd.merge(Previousweeklook1,Currentweeklook1,on='asin',how='left')\r\n"
   ],
   "outputs": [],
   "metadata": {}
  },
  {
   "cell_type": "code",
   "execution_count": 15,
   "source": [
    "oos_to_peinstock =Currentweeklook2.loc[(Currentweeklook2['total_if_count'] >0) & (Currentweeklook2['total_instock_if_count'] >0) & (Currentweeklook2['total_instock_price_enabled_if_count'] >0) & (Currentweeklook2['total_if_count_Prevweek'] >0) & (Currentweeklook2['total_instock_if_count_Prevweek']==0)]\r\n"
   ],
   "outputs": [],
   "metadata": {}
  },
  {
   "cell_type": "code",
   "execution_count": 16,
   "source": [
    "oos_to_peinstock.shape"
   ],
   "outputs": [
    {
     "output_type": "execute_result",
     "data": {
      "text/plain": [
       "(25099, 52)"
      ]
     },
     "metadata": {},
     "execution_count": 16
    }
   ],
   "metadata": {}
  },
  {
   "cell_type": "code",
   "execution_count": 17,
   "source": [
    "oos_to_peinstock['weekly_running_sum_gv'].sum()"
   ],
   "outputs": [
    {
     "output_type": "execute_result",
     "data": {
      "text/plain": [
       "850703"
      ]
     },
     "metadata": {},
     "execution_count": 17
    }
   ],
   "metadata": {}
  },
  {
   "cell_type": "code",
   "execution_count": 18,
   "source": [
    "pe_instock_to_oos=Currentweeklook2.loc[(Currentweeklook2['total_if_count']>0) & (Currentweeklook2['total_instock_if_count']==0) & (Currentweeklook2['total_if_count_Prevweek']>0) & (Currentweeklook2['total_instock_price_enabled_if_count_Prevweek']>0)]"
   ],
   "outputs": [],
   "metadata": {}
  },
  {
   "cell_type": "code",
   "execution_count": 19,
   "source": [
    "pe_instock_to_oos.shape"
   ],
   "outputs": [
    {
     "output_type": "execute_result",
     "data": {
      "text/plain": [
       "(18721, 52)"
      ]
     },
     "metadata": {},
     "execution_count": 19
    }
   ],
   "metadata": {}
  },
  {
   "cell_type": "code",
   "execution_count": 20,
   "source": [
    "pe_instock_to_oos['weekly_running_sum_gv'].sum()"
   ],
   "outputs": [
    {
     "output_type": "execute_result",
     "data": {
      "text/plain": [
       "538655"
      ]
     },
     "metadata": {},
     "execution_count": 20
    }
   ],
   "metadata": {}
  },
  {
   "cell_type": "code",
   "execution_count": 21,
   "source": [
    "Newly_added_oos=Currentweeklook2.loc[(Currentweeklook2['total_if_count']>0) & (Currentweeklook2['total_instock_if_count']==0) & (Currentweeklook2['total_oostock_if_count']>0) & (Currentweeklook2['total_if_count_Prevweek'].isnull())]"
   ],
   "outputs": [],
   "metadata": {}
  },
  {
   "cell_type": "code",
   "execution_count": 22,
   "source": [
    "Newly_added_oos.shape"
   ],
   "outputs": [
    {
     "output_type": "execute_result",
     "data": {
      "text/plain": [
       "(143668, 52)"
      ]
     },
     "metadata": {},
     "execution_count": 22
    }
   ],
   "metadata": {}
  },
  {
   "cell_type": "code",
   "execution_count": 23,
   "source": [
    "Newly_added_oos['weekly_running_sum_gv'].sum()"
   ],
   "outputs": [
    {
     "output_type": "execute_result",
     "data": {
      "text/plain": [
       "384885"
      ]
     },
     "metadata": {},
     "execution_count": 23
    }
   ],
   "metadata": {}
  },
  {
   "cell_type": "code",
   "execution_count": 24,
   "source": [
    "Newly_added_peinstock=Currentweeklook2.loc[(Currentweeklook2['total_if_count']>0) & (Currentweeklook2['total_instock_if_count']>0) & (Currentweeklook2['total_instock_price_enabled_if_count']>0) & (Currentweeklook2['total_if_count_Prevweek'].isnull())]"
   ],
   "outputs": [],
   "metadata": {}
  },
  {
   "cell_type": "code",
   "execution_count": 25,
   "source": [
    "Newly_added_peinstock.shape"
   ],
   "outputs": [
    {
     "output_type": "execute_result",
     "data": {
      "text/plain": [
       "(19783, 52)"
      ]
     },
     "metadata": {},
     "execution_count": 25
    }
   ],
   "metadata": {}
  },
  {
   "cell_type": "code",
   "execution_count": 26,
   "source": [
    "Newly_added_peinstock['weekly_running_sum_gv'].sum()"
   ],
   "outputs": [
    {
     "output_type": "execute_result",
     "data": {
      "text/plain": [
       "109081"
      ]
     },
     "metadata": {},
     "execution_count": 26
    }
   ],
   "metadata": {}
  },
  {
   "cell_type": "code",
   "execution_count": 27,
   "source": [
    "Overlapping_0if=Currentweeklook2.loc[(Currentweeklook2['total_if_count']==0) & (Currentweeklook2['total_if_count_Prevweek']==0)]"
   ],
   "outputs": [],
   "metadata": {}
  },
  {
   "cell_type": "code",
   "execution_count": 28,
   "source": [
    "Overlapping_0if.shape"
   ],
   "outputs": [
    {
     "output_type": "execute_result",
     "data": {
      "text/plain": [
       "(183504, 52)"
      ]
     },
     "metadata": {},
     "execution_count": 28
    }
   ],
   "metadata": {}
  },
  {
   "cell_type": "code",
   "execution_count": 29,
   "source": [
    "Overlapping_0if['weekly_running_sum_gv'].sum()"
   ],
   "outputs": [
    {
     "output_type": "execute_result",
     "data": {
      "text/plain": [
       "5349215"
      ]
     },
     "metadata": {},
     "execution_count": 29
    }
   ],
   "metadata": {}
  },
  {
   "cell_type": "code",
   "execution_count": 30,
   "source": [
    "Overlapping_peinstock=Currentweeklook2.loc[(Currentweeklook2['total_if_count']>0) & (Currentweeklook2['total_instock_if_count']>0) & (Currentweeklook2['total_instock_price_enabled_if_count']>0) & (Currentweeklook2['total_if_count_Prevweek']>0) & (Currentweeklook2['total_instock_price_enabled_if_count_Prevweek']>0)]"
   ],
   "outputs": [],
   "metadata": {}
  },
  {
   "cell_type": "code",
   "execution_count": 31,
   "source": [
    "Overlapping_peinstock.shape"
   ],
   "outputs": [
    {
     "output_type": "execute_result",
     "data": {
      "text/plain": [
       "(63929, 52)"
      ]
     },
     "metadata": {},
     "execution_count": 31
    }
   ],
   "metadata": {}
  },
  {
   "cell_type": "code",
   "execution_count": 32,
   "source": [
    "Overlapping_peinstock['weekly_running_sum_gv'].sum()"
   ],
   "outputs": [
    {
     "output_type": "execute_result",
     "data": {
      "text/plain": [
       "8178375"
      ]
     },
     "metadata": {},
     "execution_count": 32
    }
   ],
   "metadata": {}
  },
  {
   "cell_type": "code",
   "execution_count": 33,
   "source": [
    "Overlapping_Out_of_stock=Currentweeklook2.loc[(Currentweeklook2['total_if_count']>0) & (Currentweeklook2['total_instock_if_count']==0) & (Currentweeklook2['total_if_count_Prevweek']>0) & (Currentweeklook2['total_instock_if_count_Prevweek']==0)]"
   ],
   "outputs": [],
   "metadata": {}
  },
  {
   "cell_type": "code",
   "execution_count": 34,
   "source": [
    "Overlapping_Out_of_stock.shape"
   ],
   "outputs": [
    {
     "output_type": "execute_result",
     "data": {
      "text/plain": [
       "(210485, 52)"
      ]
     },
     "metadata": {},
     "execution_count": 34
    }
   ],
   "metadata": {}
  },
  {
   "cell_type": "code",
   "execution_count": 35,
   "source": [
    "Overlapping_Out_of_stock['weekly_running_sum_gv'].sum()"
   ],
   "outputs": [
    {
     "output_type": "execute_result",
     "data": {
      "text/plain": [
       "4032575"
      ]
     },
     "metadata": {},
     "execution_count": 35
    }
   ],
   "metadata": {}
  },
  {
   "cell_type": "code",
   "execution_count": 36,
   "source": [
    "Newly_added_0if=Currentweeklook2.loc[(Currentweeklook2['total_if_count']==0) & (Currentweeklook2['total_if_count_Prevweek'].isnull())]"
   ],
   "outputs": [],
   "metadata": {}
  },
  {
   "cell_type": "code",
   "execution_count": 37,
   "source": [
    "Newly_added_0if.shape"
   ],
   "outputs": [
    {
     "output_type": "execute_result",
     "data": {
      "text/plain": [
       "(189886, 52)"
      ]
     },
     "metadata": {},
     "execution_count": 37
    }
   ],
   "metadata": {}
  },
  {
   "cell_type": "code",
   "execution_count": 38,
   "source": [
    "Newly_added_0if['weekly_running_sum_gv'].sum()"
   ],
   "outputs": [
    {
     "output_type": "execute_result",
     "data": {
      "text/plain": [
       "766117"
      ]
     },
     "metadata": {},
     "execution_count": 38
    }
   ],
   "metadata": {}
  },
  {
   "cell_type": "code",
   "execution_count": 39,
   "source": [
    "Moved_out_oos=Previousweeklook2.loc[(Previousweeklook2['total_if_count_Prevweek']>0) & (Previousweeklook2['total_instock_if_count_Prevweek']==0) & (Previousweeklook2['total_oostock_if_count_Prevweek']>0) & (Previousweeklook2['total_if_count'].isnull())]"
   ],
   "outputs": [],
   "metadata": {}
  },
  {
   "cell_type": "code",
   "execution_count": 40,
   "source": [
    "Moved_out_oos.shape"
   ],
   "outputs": [
    {
     "output_type": "execute_result",
     "data": {
      "text/plain": [
       "(75746, 52)"
      ]
     },
     "metadata": {},
     "execution_count": 40
    }
   ],
   "metadata": {}
  },
  {
   "cell_type": "code",
   "execution_count": 41,
   "source": [
    "Moved_out_oos['weekly_running_sum_gv_Prevweek'].sum()"
   ],
   "outputs": [
    {
     "output_type": "execute_result",
     "data": {
      "text/plain": [
       "184833"
      ]
     },
     "metadata": {},
     "execution_count": 41
    }
   ],
   "metadata": {}
  },
  {
   "cell_type": "code",
   "execution_count": 42,
   "source": [
    "Moved_out_peinstock=Previousweeklook2.loc[(Previousweeklook2['total_if_count_Prevweek']>0) & (Previousweeklook2['total_instock_if_count_Prevweek']>0) & (Previousweeklook2['total_if_count'].isnull())]"
   ],
   "outputs": [],
   "metadata": {}
  },
  {
   "cell_type": "code",
   "execution_count": 43,
   "source": [
    "Moved_out_peinstock.shape"
   ],
   "outputs": [
    {
     "output_type": "execute_result",
     "data": {
      "text/plain": [
       "(13678, 52)"
      ]
     },
     "metadata": {},
     "execution_count": 43
    }
   ],
   "metadata": {}
  },
  {
   "cell_type": "code",
   "execution_count": 44,
   "source": [
    "Moved_out_peinstock['weekly_running_sum_gv_Prevweek'].sum()"
   ],
   "outputs": [
    {
     "output_type": "execute_result",
     "data": {
      "text/plain": [
       "52511"
      ]
     },
     "metadata": {},
     "execution_count": 44
    }
   ],
   "metadata": {}
  },
  {
   "cell_type": "code",
   "execution_count": 45,
   "source": [
    "Moved_out_0if=Previousweeklook2.loc[(Previousweeklook2['total_if_count_Prevweek']==0) & (Previousweeklook2['total_if_count'].isnull())]"
   ],
   "outputs": [],
   "metadata": {}
  },
  {
   "cell_type": "code",
   "execution_count": 46,
   "source": [
    "Moved_out_0if.shape"
   ],
   "outputs": [
    {
     "output_type": "execute_result",
     "data": {
      "text/plain": [
       "(124043, 52)"
      ]
     },
     "metadata": {},
     "execution_count": 46
    }
   ],
   "metadata": {}
  },
  {
   "cell_type": "code",
   "execution_count": 47,
   "source": [
    "Moved_out_0if['weekly_running_sum_gv_Prevweek'].sum()"
   ],
   "outputs": [
    {
     "output_type": "execute_result",
     "data": {
      "text/plain": [
       "398675"
      ]
     },
     "metadata": {},
     "execution_count": 47
    }
   ],
   "metadata": {}
  },
  {
   "cell_type": "code",
   "execution_count": 48,
   "source": [
    "f = open(\"output.txt\", \"a\")\r\n",
    "print('Out of stock to PEInstock',(oos_to_peinstock['weekly_running_sum_gv'].sum()/Currentwkgv)*100,'%','  Number of asins=',oos_to_peinstock.shape[0],'  GVs in Number= ',oos_to_peinstock['weekly_running_sum_gv'].sum(),file=f)\r\n",
    "print('PEInstock to Out of stock',(pe_instock_to_oos['weekly_running_sum_gv'].sum()/Currentwkgv)*100,'%','  Number of asins=',pe_instock_to_oos.shape[0],'  GVs in Number= ',pe_instock_to_oos['weekly_running_sum_gv'].sum(),file=f)\r\n",
    "print('Combined Impact = ',((oos_to_peinstock['weekly_running_sum_gv'].sum()/Currentwkgv)*100)-((pe_instock_to_oos['weekly_running_sum_gv'].sum()/Currentwkgv)*100),'%',file=f)\r\n",
    "print('--------------------------------------------------------------------------------',file=f)\r\n",
    "print('--------------------------------------------------------------------------------',file=f)\r\n",
    "print('Newly added Out of stock',(Newly_added_oos['weekly_running_sum_gv'].sum()/Currentwkgv)*100,'%','  Number of asins=',Newly_added_oos.shape[0],'  GVs in Number= ',Newly_added_oos['weekly_running_sum_gv'].sum(),file=f)\r\n",
    "print('Movedout Out of stock',(Moved_out_oos['weekly_running_sum_gv_Prevweek'].sum()/Previouswkgv)*100,'%','  Number of asins=',Moved_out_oos.shape[0],'  GVs in Number= ',Moved_out_oos['weekly_running_sum_gv_Prevweek'].sum(),file=f)\r\n",
    "print('Combined Impact = ',((Moved_out_oos['weekly_running_sum_gv_Prevweek'].sum()/Previouswkgv)*100)-((Newly_added_oos['weekly_running_sum_gv'].sum()/Currentwkgv)*100),'%',file=f)\r\n",
    "print('--------------------------------------------------------------------------------',file=f)\r\n",
    "print('--------------------------------------------------------------------------------',file=f)\r\n",
    "print('Newly added PE Instock',(Newly_added_peinstock['weekly_running_sum_gv'].sum()/Currentwkgv)*100,'%','  Number of asins=',Newly_added_peinstock.shape[0],'  GVs in Number= ',Newly_added_peinstock['weekly_running_sum_gv'].sum(),file=f)\r\n",
    "print('Movedout PE Instock',(Moved_out_peinstock['weekly_running_sum_gv_Prevweek'].sum()/Previouswkgv)*100,'%','  Number of asins=',Moved_out_peinstock.shape[0],'  GVs in Number= ',Moved_out_peinstock['weekly_running_sum_gv_Prevweek'].sum(),file=f)\r\n",
    "print('Combined Impact = ',((Newly_added_peinstock['weekly_running_sum_gv'].sum()/Currentwkgv)*100)-((Moved_out_peinstock['weekly_running_sum_gv_Prevweek'].sum()/Previouswkgv)*100),'%',file=f)\r\n",
    "print('--------------------------------------------------------------------------------',file=f)\r\n",
    "print('--------------------------------------------------------------------------------',file=f)\r\n",
    "print('Overlapping 0if',(Overlapping_0if['weekly_running_sum_gv'].sum()/Currentwkgv)*100,'%',' Minus ',(Overlapping_0if['weekly_running_sum_gv_Prevweek'].sum()/Previouswkgv)*100,'%',' = ',((Overlapping_0if['weekly_running_sum_gv'].sum()/Currentwkgv)*100)-((Overlapping_0if['weekly_running_sum_gv_Prevweek'].sum()/Previouswkgv)*100),'%','  Number of asins=',Overlapping_0if.shape[0],' GVs in Current Week=',Overlapping_0if['weekly_running_sum_gv'].sum(),' GVs in Previous Week=',Overlapping_0if['weekly_running_sum_gv_Prevweek'].sum(),file=f)\r\n",
    "print('Overlapping Out of stock',(Overlapping_Out_of_stock['weekly_running_sum_gv'].sum()/Currentwkgv)*100,'%',' Minus ',(Overlapping_Out_of_stock['weekly_running_sum_gv_Prevweek'].sum()/Previouswkgv)*100,'%',' = ',((Overlapping_Out_of_stock['weekly_running_sum_gv'].sum()/Currentwkgv)*100)-((Overlapping_Out_of_stock['weekly_running_sum_gv_Prevweek'].sum()/Previouswkgv)*100),'%','  Number of asins=',Overlapping_Out_of_stock.shape[0],' GVs in Current Week=',Overlapping_Out_of_stock['weekly_running_sum_gv'].sum(),' GVs in Previous Week=',Overlapping_Out_of_stock['weekly_running_sum_gv_Prevweek'].sum(),file=f)\r\n",
    "print('Overlapping PE Instock',(Overlapping_peinstock['weekly_running_sum_gv'].sum()/Currentwkgv)*100,'%',' Minus ',(Overlapping_peinstock['weekly_running_sum_gv_Prevweek'].sum()/Previouswkgv)*100,'%',' = ',((Overlapping_peinstock['weekly_running_sum_gv'].sum()/Currentwkgv)*100)-((Overlapping_peinstock['weekly_running_sum_gv_Prevweek'].sum()/Previouswkgv)*100),'%','  Number of asins=',Overlapping_peinstock.shape[0],' GVs in Current Week=',Overlapping_peinstock['weekly_running_sum_gv'].sum(),' GVs in Previous Week=',Overlapping_peinstock['weekly_running_sum_gv_Prevweek'].sum(),file=f)\r\n",
    "print('--------------------------------------------------------------------------------',file=f)\r\n",
    "print('--------------------------------------------------------------------------------',file=f)\r\n",
    "print('Newly added 0IF',(Newly_added_0if['weekly_running_sum_gv'].sum()/Currentwkgv)*100,'%','  Number of asins=',Newly_added_0if.shape[0],'  GVs in Number= ',Newly_added_0if['weekly_running_sum_gv'].sum(),file=f)\r\n",
    "print('Movedout 0IF',(Moved_out_0if['weekly_running_sum_gv_Prevweek'].sum()/Previouswkgv)*100,'%','  Number of asins=',Moved_out_0if.shape[0],'  GVs in Number= ',Moved_out_0if['weekly_running_sum_gv_Prevweek'].sum(),file=f)\r\n",
    "print('Combined Impact = ',((Moved_out_0if['weekly_running_sum_gv_Prevweek'].sum()/Previouswkgv)*100)-((Newly_added_0if['weekly_running_sum_gv'].sum()/Currentwkgv)*100),'%',file=f)\r\n",
    "\r\n",
    "f.close()\r\n",
    "\r\n",
    "\r\n"
   ],
   "outputs": [],
   "metadata": {}
  },
  {
   "cell_type": "code",
   "execution_count": 49,
   "source": [
    "oos_to_peinstock.to_csv('oos_to_peinstock.csv')\r\n",
    "pe_instock_to_oos.to_csv('pe_instock_to_oos.csv')\r\n",
    "Newly_added_oos.to_csv('Newly_added_oos.csv')\r\n",
    "Moved_out_oos.to_csv('Moved_out_oos.csv')\r\n",
    "Newly_added_peinstock.to_csv('Newly_added_peinstock.csv')\r\n",
    "Overlapping_0if.to_csv('Overlapping_0if.csv')\r\n",
    "Overlapping_Out_of_stock.to_csv('Overlapping_Out_of_stock.csv')\r\n",
    "Overlapping_peinstock.to_csv('Overlapping_peinstock.csv')\r\n",
    "Newly_added_0if.to_csv('Newly_added_0if.csv')\r\n",
    "Moved_out_0if.to_csv('Moved_out_0if.csv')\r\n",
    "\r\n",
    "\r\n",
    "\r\n",
    "\r\n",
    "    \r\n"
   ],
   "outputs": [],
   "metadata": {}
  }
 ],
 "metadata": {
  "orig_nbformat": 4,
  "language_info": {
   "name": "python",
   "version": "3.8.5",
   "mimetype": "text/x-python",
   "codemirror_mode": {
    "name": "ipython",
    "version": 3
   },
   "pygments_lexer": "ipython3",
   "nbconvert_exporter": "python",
   "file_extension": ".py"
  },
  "kernelspec": {
   "name": "python3",
   "display_name": "Python 3.8.5 64-bit"
  },
  "interpreter": {
   "hash": "1baa965d5efe3ac65b79dfc60c0d706280b1da80fedb7760faf2759126c4f253"
  }
 },
 "nbformat": 4,
 "nbformat_minor": 2
}